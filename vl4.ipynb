{
 "cells": [
  {
   "cell_type": "markdown",
   "metadata": {},
   "source": [
    "Einführung in Funktionen, Module, Klassen"
   ]
  },
  {
   "cell_type": "code",
   "execution_count": 9,
   "metadata": {},
   "outputs": [
    {
     "name": "stdout",
     "output_type": "stream",
     "text": [
      "Hello, Marco!\n"
     ]
    }
   ],
   "source": [
    "# Defining methods\n",
    "\n",
    "def hello(name):\n",
    "    \"\"\"\n",
    "    Greets you! \n",
    "    \"\"\"\n",
    "    print('Hello, ' + name + '!')\n",
    "\n",
    "hello('Marco')"
   ]
  },
  {
   "cell_type": "code",
   "execution_count": 13,
   "metadata": {},
   "outputs": [
    {
     "name": "stdout",
     "output_type": "stream",
     "text": [
      "3.0\n",
      "2998219536.0\n",
      "2998219536\n"
     ]
    }
   ],
   "source": [
    "from math import sqrt, pow\n",
    "\n",
    "print(sqrt(9))\n",
    "print(pow(234, 4))\n",
    "print(234**4)"
   ]
  },
  {
   "cell_type": "code",
   "execution_count": 12,
   "metadata": {},
   "outputs": [
    {
     "name": "stdout",
     "output_type": "stream",
     "text": [
      "Berechnung eines Differenzenquotienten\n",
      "Wir untersuchen die Normalparabel an der Stelle x0=1\n",
      "Mit Schrittweite h=0.001 erhalten wir den Wert 1.9999999999998352\n",
      "Der exakte Wert der Ableitung ist 2.0\n"
     ]
    }
   ],
   "source": [
    "#Folie 30\n",
    "def parabola(x):\n",
    "    return x * x\n",
    "def diff(f, x0, h=0.001):\n",
    "    return (f(x0 + h) - f(x0 - h)) / (2.0 * h)\n",
    "\n",
    "x0 = 1.0\n",
    "print('Berechnung eines Differenzenquotienten')\n",
    "print('Wir untersuchen die Normalparabel an der Stelle x0=1')\n",
    "value = diff(parabola, x0)\n",
    "print('Mit Schrittweite h=0.001 erhalten wir den Wert', value)\n",
    "print('Der exakte Wert der Ableitung ist', 2.0*x0)"
   ]
  },
  {
   "cell_type": "code",
   "execution_count": null,
   "metadata": {},
   "outputs": [],
   "source": [
    "# Run this to crash vscode\n",
    "\n",
    "from numpy import arange\n",
    "\n",
    "arr = arange(10e7)\n",
    "for val in enumerate(arr):\n",
    "    print(val)"
   ]
  }
 ],
 "metadata": {
  "kernelspec": {
   "display_name": "Python 3",
   "language": "python",
   "name": "python3"
  },
  "language_info": {
   "codemirror_mode": {
    "name": "ipython",
    "version": 3
   },
   "file_extension": ".py",
   "mimetype": "text/x-python",
   "name": "python",
   "nbconvert_exporter": "python",
   "pygments_lexer": "ipython3",
   "version": "3.11.4"
  }
 },
 "nbformat": 4,
 "nbformat_minor": 2
}
